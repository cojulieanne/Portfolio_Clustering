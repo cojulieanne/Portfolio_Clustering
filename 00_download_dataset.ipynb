{
 "cells": [
  {
   "cell_type": "code",
   "execution_count": 16,
   "id": "14eaa83d-013c-4a5c-a4b9-e45b99aa877a",
   "metadata": {
    "execution": {
     "iopub.execute_input": "2024-08-20T12:41:16.863331Z",
     "iopub.status.busy": "2024-08-20T12:41:16.862700Z",
     "iopub.status.idle": "2024-08-20T12:41:16.902422Z",
     "shell.execute_reply": "2024-08-20T12:41:16.901420Z",
     "shell.execute_reply.started": "2024-08-20T12:41:16.863274Z"
    }
   },
   "outputs": [
    {
     "name": "stdout",
     "output_type": "stream",
     "text": [
      "The autoreload extension is already loaded. To reload it, use:\n",
      "  %reload_ext autoreload\n"
     ]
    }
   ],
   "source": [
    "%load_ext autoreload\n",
    "%autoreload 2"
   ]
  },
  {
   "cell_type": "code",
   "execution_count": 17,
   "id": "d29dbdaa-4e3b-42ef-ab7a-3096430be36a",
   "metadata": {
    "execution": {
     "iopub.execute_input": "2024-08-20T12:41:18.792452Z",
     "iopub.status.busy": "2024-08-20T12:41:18.791808Z",
     "iopub.status.idle": "2024-08-20T12:41:18.824430Z",
     "shell.execute_reply": "2024-08-20T12:41:18.823384Z",
     "shell.execute_reply.started": "2024-08-20T12:41:18.792395Z"
    },
    "id": "d29dbdaa-4e3b-42ef-ab7a-3096430be36a"
   },
   "outputs": [],
   "source": [
    "import pandas as pd\n",
    "import numpy as np\n",
    "import yfinance as yf"
   ]
  },
  {
   "cell_type": "markdown",
   "id": "81jNtb9Ki8KR",
   "metadata": {
    "id": "81jNtb9Ki8KR"
   },
   "source": [
    "### Load Data from YF for S&P500"
   ]
  },
  {
   "cell_type": "code",
   "execution_count": 18,
   "id": "14258a74-c32d-41a4-8a8e-70e58c4cbf76",
   "metadata": {
    "execution": {
     "iopub.execute_input": "2024-08-20T12:41:19.993401Z",
     "iopub.status.busy": "2024-08-20T12:41:19.992747Z",
     "iopub.status.idle": "2024-08-20T12:42:26.323425Z",
     "shell.execute_reply": "2024-08-20T12:42:26.321838Z",
     "shell.execute_reply.started": "2024-08-20T12:41:19.993345Z"
    }
   },
   "outputs": [
    {
     "name": "stdout",
     "output_type": "stream",
     "text": [
      "Total number of unique S&P 500 tickers: 500\n"
     ]
    },
    {
     "name": "stderr",
     "output_type": "stream",
     "text": [
      "[*********************100%%**********************]  500 of 500 completed\n",
      "\n",
      "3 Failed downloads:\n",
      "['SW', 'SOLV', 'GEV']: YFChartError(\"%ticker%: Data doesn't exist for startDate = 1357016400, endDate = 1704085200\")\n"
     ]
    }
   ],
   "source": [
    "# Fetch the list of S&P 500 companies from Wikipedia\n",
    "wiki_url = 'https://en.wikipedia.org/wiki/List_of_S%26P_500_companies'\n",
    "table = pd.read_html(wiki_url)\n",
    "sp500_tickers = table[0]['Symbol'].tolist()\n",
    "\n",
    "# Ensure the tickers are unique and handle any problematic tickers\n",
    "problematic_tickers = ['BRK.B', 'BF.B']\n",
    "sp500_tickers = [ticker.replace('.', '-') for ticker in sp500_tickers if ticker not in problematic_tickers]\n",
    "\n",
    "# Check for duplicates and limit to 500 unique tickers\n",
    "sp500_tickers = list(set(sp500_tickers))[:500]\n",
    "\n",
    "# Print the tickers and their count to ensure accuracy\n",
    "print(f\"Total number of unique S&P 500 tickers: {len(sp500_tickers)}\")\n",
    "\n",
    "# Fetch historical data for all S&P 500 companies\n",
    "data = yf.download(sp500_tickers, start=\"2013-01-01\", end=\"2024-01-01\")['Adj Close'].reset_index().set_index('Date')\n",
    "\n",
    "# Save the data to a CSV file for reuse\n",
    "data.to_csv('data/sp500_data.csv')"
   ]
  },
  {
   "cell_type": "code",
   "execution_count": 19,
   "id": "30817c70-ee92-496b-a908-ec42ab608c27",
   "metadata": {
    "execution": {
     "iopub.execute_input": "2024-08-20T12:42:26.326708Z",
     "iopub.status.busy": "2024-08-20T12:42:26.326281Z",
     "iopub.status.idle": "2024-08-20T12:42:26.619815Z",
     "shell.execute_reply": "2024-08-20T12:42:26.618883Z",
     "shell.execute_reply.started": "2024-08-20T12:42:26.326670Z"
    }
   },
   "outputs": [
    {
     "name": "stderr",
     "output_type": "stream",
     "text": [
      "[*********************100%%**********************]  1 of 1 completed\n"
     ]
    }
   ],
   "source": [
    "dji = yf.download('^DJI', start=\"2013-01-01\", end=\"2024-01-01\")['Adj Close'].reset_index().set_index('Date')\n",
    "dji.columns = ['DJI']\n",
    "dji.to_csv('data/dji.csv')"
   ]
  },
  {
   "cell_type": "code",
   "execution_count": 20,
   "id": "d469f221-7730-44a6-aa6a-d694c240f51e",
   "metadata": {
    "execution": {
     "iopub.execute_input": "2024-08-20T12:42:26.620898Z",
     "iopub.status.busy": "2024-08-20T12:42:26.620691Z",
     "iopub.status.idle": "2024-08-20T12:42:26.857381Z",
     "shell.execute_reply": "2024-08-20T12:42:26.856843Z",
     "shell.execute_reply.started": "2024-08-20T12:42:26.620880Z"
    }
   },
   "outputs": [
    {
     "name": "stderr",
     "output_type": "stream",
     "text": [
      "[*********************100%%**********************]  1 of 1 completed\n"
     ]
    }
   ],
   "source": [
    "gspc = yf.download('^GSPC', start=\"2013-01-01\", end=\"2024-01-01\")['Adj Close'].reset_index().set_index('Date')\n",
    "gspc.columns = ['GSPC']\n",
    "gspc.to_csv('data/gspc.csv')"
   ]
  },
  {
   "cell_type": "code",
   "execution_count": 21,
   "id": "0ccfc862-0a1a-40d0-ba51-1a717cfd6e63",
   "metadata": {
    "execution": {
     "iopub.execute_input": "2024-08-20T12:42:29.543299Z",
     "iopub.status.busy": "2024-08-20T12:42:29.542626Z",
     "iopub.status.idle": "2024-08-20T12:42:29.864413Z",
     "shell.execute_reply": "2024-08-20T12:42:29.863526Z",
     "shell.execute_reply.started": "2024-08-20T12:42:29.543242Z"
    }
   },
   "outputs": [
    {
     "name": "stderr",
     "output_type": "stream",
     "text": [
      "[*********************100%%**********************]  1 of 1 completed\n"
     ]
    }
   ],
   "source": [
    "ndx = yf.download('^NDX', start=\"2013-01-01\", end=\"2024-01-01\")['Adj Close'].reset_index().set_index('Date')\n",
    "ndx.columns = ['NDX']\n",
    "ndx.to_csv('data/ndx.csv')"
   ]
  },
  {
   "cell_type": "code",
   "execution_count": null,
   "id": "04812a31-65e5-433d-a7d6-70fade1936cf",
   "metadata": {},
   "outputs": [],
   "source": []
  }
 ],
 "metadata": {
  "colab": {
   "provenance": [],
   "toc_visible": true
  },
  "kernelspec": {
   "display_name": "Python 3 (ipykernel)",
   "language": "python",
   "name": "python3"
  },
  "language_info": {
   "codemirror_mode": {
    "name": "ipython",
    "version": 3
   },
   "file_extension": ".py",
   "mimetype": "text/x-python",
   "name": "python",
   "nbconvert_exporter": "python",
   "pygments_lexer": "ipython3",
   "version": "3.11.8"
  }
 },
 "nbformat": 4,
 "nbformat_minor": 5
}
