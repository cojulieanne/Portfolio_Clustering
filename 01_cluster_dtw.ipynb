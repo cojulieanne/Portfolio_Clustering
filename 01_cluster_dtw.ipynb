{
 "cells": [
  {
   "cell_type": "code",
   "execution_count": 1,
   "id": "14eaa83d-013c-4a5c-a4b9-e45b99aa877a",
   "metadata": {
    "execution": {
     "iopub.execute_input": "2024-08-21T07:42:32.247445Z",
     "iopub.status.busy": "2024-08-21T07:42:32.246499Z",
     "iopub.status.idle": "2024-08-21T07:42:32.283046Z",
     "shell.execute_reply": "2024-08-21T07:42:32.282063Z",
     "shell.execute_reply.started": "2024-08-21T07:42:32.247353Z"
    }
   },
   "outputs": [],
   "source": [
    "%load_ext autoreload\n",
    "%autoreload 2"
   ]
  },
  {
   "cell_type": "code",
   "execution_count": 30,
   "id": "d29dbdaa-4e3b-42ef-ab7a-3096430be36a",
   "metadata": {
    "execution": {
     "iopub.execute_input": "2024-08-21T08:25:38.590211Z",
     "iopub.status.busy": "2024-08-21T08:25:38.589816Z",
     "iopub.status.idle": "2024-08-21T08:25:38.657792Z",
     "shell.execute_reply": "2024-08-21T08:25:38.656288Z",
     "shell.execute_reply.started": "2024-08-21T08:25:38.590182Z"
    },
    "id": "d29dbdaa-4e3b-42ef-ab7a-3096430be36a"
   },
   "outputs": [],
   "source": [
    "import pandas as pd\n",
    "import numpy as np\n",
    "import matplotlib.pyplot as plt\n",
    "import seaborn as sns\n",
    "from sklearn.decomposition import PCA\n",
    "from sklearn.neighbors import NearestNeighbors\n",
    "from sklearn.cluster import KMeans, AgglomerativeClustering, OPTICS, DBSCAN, cluster_optics_dbscan\n",
    "from sklearn_extra.cluster import KMedoids\n",
    "import random\n",
    "from sklearn.metrics import silhouette_score, calinski_harabasz_score, davies_bouldin_score\n",
    "from sklearn.preprocessing import StandardScaler\n",
    "from scipy.spatial.distance import euclidean\n",
    "from sklearn.base import clone\n",
    "import yfinance as yf\n",
    "from utils.utils import Portfolio\n",
    "from utils.helpers import pooled_within_ssd, gen_realizations, gap_statistic, cluster_range, plot_internal, plot_internal_zoom_range, calcCorr, correlDist\n",
    "from utils.clusters import kmeans_cluster, kmedoids_cluster, agglomerative_cluster\n",
    "\n",
    "import tslearn\n",
    "from tslearn.preprocessing import TimeSeriesScalerMeanVariance, TimeSeriesResampler, TimeSeriesScalerMinMax\n",
    "from tslearn.piecewise import PiecewiseAggregateApproximation, SymbolicAggregateApproximation, OneD_SymbolicAggregateApproximation\n",
    "from tslearn.clustering import TimeSeriesKMeans\n",
    "from tslearn.metrics import cdist_dtw"
   ]
  },
  {
   "cell_type": "markdown",
   "id": "81jNtb9Ki8KR",
   "metadata": {
    "id": "81jNtb9Ki8KR"
   },
   "source": [
    "### Load Data from YF for S&P500 and save it"
   ]
  },
  {
   "cell_type": "code",
   "execution_count": 3,
   "id": "9ca09a48-5e3e-46a1-80ad-3834fc4851be",
   "metadata": {
    "execution": {
     "iopub.execute_input": "2024-08-21T07:42:37.260760Z",
     "iopub.status.busy": "2024-08-21T07:42:37.260300Z",
     "iopub.status.idle": "2024-08-21T07:42:38.774612Z",
     "shell.execute_reply": "2024-08-21T07:42:38.773600Z",
     "shell.execute_reply.started": "2024-08-21T07:42:37.260731Z"
    }
   },
   "outputs": [],
   "source": [
    "sp500 = Portfolio('2013-01-01', '2024-01-01')\n",
    "sp500_train = Portfolio('2013-01-01', '2023-01-01')\n",
    "sp500_test = Portfolio('2023-01-01', '2024-01-01')\n",
    "dji_test = Portfolio('2023-01-01','2024-01-01', file = 'data/dji.csv')"
   ]
  },
  {
   "cell_type": "markdown",
   "id": "9752453f-96d7-46c8-85ee-ea346f18880b",
   "metadata": {},
   "source": [
    "## Baselines for Sharpe Ratio: DJI & 30 Random"
   ]
  },
  {
   "cell_type": "code",
   "execution_count": 4,
   "id": "21c333a0-6ef0-464c-b1a8-a477f8d18483",
   "metadata": {
    "execution": {
     "iopub.execute_input": "2024-08-21T07:42:38.776306Z",
     "iopub.status.busy": "2024-08-21T07:42:38.776040Z",
     "iopub.status.idle": "2024-08-21T07:42:38.837571Z",
     "shell.execute_reply": "2024-08-21T07:42:38.836736Z",
     "shell.execute_reply.started": "2024-08-21T07:42:38.776283Z"
    }
   },
   "outputs": [
    {
     "data": {
      "text/html": [
       "<div>\n",
       "<style scoped>\n",
       "    .dataframe tbody tr th:only-of-type {\n",
       "        vertical-align: middle;\n",
       "    }\n",
       "\n",
       "    .dataframe tbody tr th {\n",
       "        vertical-align: top;\n",
       "    }\n",
       "\n",
       "    .dataframe thead th {\n",
       "        text-align: right;\n",
       "    }\n",
       "</style>\n",
       "<table border=\"1\" class=\"dataframe\">\n",
       "  <thead>\n",
       "    <tr style=\"text-align: right;\">\n",
       "      <th></th>\n",
       "      <th>Sharpe</th>\n",
       "      <th>Sortino</th>\n",
       "      <th>Returns</th>\n",
       "    </tr>\n",
       "  </thead>\n",
       "  <tbody>\n",
       "    <tr>\n",
       "      <th>DJI</th>\n",
       "      <td>0.071854</td>\n",
       "      <td>0.116324</td>\n",
       "      <td>0.137407</td>\n",
       "    </tr>\n",
       "    <tr>\n",
       "      <th>SP500</th>\n",
       "      <td>0.096611</td>\n",
       "      <td>0.150627</td>\n",
       "      <td>0.228182</td>\n",
       "    </tr>\n",
       "  </tbody>\n",
       "</table>\n",
       "</div>"
      ],
      "text/plain": [
       "         Sharpe   Sortino   Returns\n",
       "DJI    0.071854  0.116324  0.137407\n",
       "SP500  0.096611  0.150627  0.228182"
      ]
     },
     "execution_count": 4,
     "metadata": {},
     "output_type": "execute_result"
    }
   ],
   "source": [
    "baseline = dji_test.metrics.copy()\n",
    "baseline.loc['SP500'] = [sp500_test.get_portf_sharpe(), sp500_test.get_portf_sortino(), sp500_test.get_portf_return()]\n",
    "baseline"
   ]
  },
  {
   "cell_type": "code",
   "execution_count": 5,
   "id": "008f0b3d-7c22-4e87-833b-05f0f768d312",
   "metadata": {
    "execution": {
     "iopub.execute_input": "2024-08-21T07:42:39.644041Z",
     "iopub.status.busy": "2024-08-21T07:42:39.643264Z",
     "iopub.status.idle": "2024-08-21T07:42:46.635326Z",
     "shell.execute_reply": "2024-08-21T07:42:46.633960Z",
     "shell.execute_reply.started": "2024-08-21T07:42:39.643978Z"
    },
    "scrolled": true
   },
   "outputs": [
    {
     "data": {
      "text/html": [
       "<div>\n",
       "<style scoped>\n",
       "    .dataframe tbody tr th:only-of-type {\n",
       "        vertical-align: middle;\n",
       "    }\n",
       "\n",
       "    .dataframe tbody tr th {\n",
       "        vertical-align: top;\n",
       "    }\n",
       "\n",
       "    .dataframe thead th {\n",
       "        text-align: right;\n",
       "    }\n",
       "</style>\n",
       "<table border=\"1\" class=\"dataframe\">\n",
       "  <thead>\n",
       "    <tr style=\"text-align: right;\">\n",
       "      <th></th>\n",
       "      <th>Sharpe</th>\n",
       "      <th>Sortino</th>\n",
       "      <th>Returns</th>\n",
       "    </tr>\n",
       "  </thead>\n",
       "  <tbody>\n",
       "    <tr>\n",
       "      <th>DJI</th>\n",
       "      <td>0.071854</td>\n",
       "      <td>0.116324</td>\n",
       "      <td>0.137407</td>\n",
       "    </tr>\n",
       "    <tr>\n",
       "      <th>SP500</th>\n",
       "      <td>0.096611</td>\n",
       "      <td>0.150627</td>\n",
       "      <td>0.228182</td>\n",
       "    </tr>\n",
       "    <tr>\n",
       "      <th>Random</th>\n",
       "      <td>0.084340</td>\n",
       "      <td>0.134432</td>\n",
       "      <td>0.222219</td>\n",
       "    </tr>\n",
       "  </tbody>\n",
       "</table>\n",
       "</div>"
      ],
      "text/plain": [
       "          Sharpe   Sortino   Returns\n",
       "DJI     0.071854  0.116324  0.137407\n",
       "SP500   0.096611  0.150627  0.228182\n",
       "Random  0.084340  0.134432  0.222219"
      ]
     },
     "execution_count": 5,
     "metadata": {},
     "output_type": "execute_result"
    }
   ],
   "source": [
    "random_sharpe = []\n",
    "random_sortino = []\n",
    "random_return = []\n",
    "for i in range(1000):\n",
    "    rand_stocks = random.sample(list(sp500_train.stock_sharpe.index), 30)\n",
    "    random_sharpe.append(sp500_test.get_portf_sharpe(tick = rand_stocks))\n",
    "    random_sortino.append(sp500_test.get_portf_sortino(tick = rand_stocks))\n",
    "    random_return.append(sp500_test.get_portf_return(tick = rand_stocks))\n",
    "baseline.loc['Random'] = [np.array(random_sharpe).mean(), np.array(random_sortino).mean(), np.array(random_return).mean()]\n",
    "baseline"
   ]
  },
  {
   "cell_type": "code",
   "execution_count": 6,
   "id": "cc95aa10-0ee2-4094-b087-682aeac49e81",
   "metadata": {
    "execution": {
     "iopub.execute_input": "2024-08-21T07:42:46.637240Z",
     "iopub.status.busy": "2024-08-21T07:42:46.636952Z",
     "iopub.status.idle": "2024-08-21T07:42:46.690724Z",
     "shell.execute_reply": "2024-08-21T07:42:46.689441Z",
     "shell.execute_reply.started": "2024-08-21T07:42:46.637217Z"
    }
   },
   "outputs": [
    {
     "data": {
      "text/html": [
       "<div>\n",
       "<style scoped>\n",
       "    .dataframe tbody tr th:only-of-type {\n",
       "        vertical-align: middle;\n",
       "    }\n",
       "\n",
       "    .dataframe tbody tr th {\n",
       "        vertical-align: top;\n",
       "    }\n",
       "\n",
       "    .dataframe thead th {\n",
       "        text-align: right;\n",
       "    }\n",
       "</style>\n",
       "<table border=\"1\" class=\"dataframe\">\n",
       "  <thead>\n",
       "    <tr style=\"text-align: right;\">\n",
       "      <th></th>\n",
       "      <th>Sharpe</th>\n",
       "      <th>Sortino</th>\n",
       "      <th>Returns</th>\n",
       "    </tr>\n",
       "  </thead>\n",
       "  <tbody>\n",
       "    <tr>\n",
       "      <th>DJI</th>\n",
       "      <td>0.071854</td>\n",
       "      <td>0.116324</td>\n",
       "      <td>0.137407</td>\n",
       "    </tr>\n",
       "    <tr>\n",
       "      <th>SP500</th>\n",
       "      <td>0.096611</td>\n",
       "      <td>0.150627</td>\n",
       "      <td>0.228182</td>\n",
       "    </tr>\n",
       "    <tr>\n",
       "      <th>Random</th>\n",
       "      <td>0.084340</td>\n",
       "      <td>0.134432</td>\n",
       "      <td>0.222219</td>\n",
       "    </tr>\n",
       "    <tr>\n",
       "      <th>Top30</th>\n",
       "      <td>0.122589</td>\n",
       "      <td>0.190844</td>\n",
       "      <td>0.264911</td>\n",
       "    </tr>\n",
       "  </tbody>\n",
       "</table>\n",
       "</div>"
      ],
      "text/plain": [
       "          Sharpe   Sortino   Returns\n",
       "DJI     0.071854  0.116324  0.137407\n",
       "SP500   0.096611  0.150627  0.228182\n",
       "Random  0.084340  0.134432  0.222219\n",
       "Top30   0.122589  0.190844  0.264911"
      ]
     },
     "execution_count": 6,
     "metadata": {},
     "output_type": "execute_result"
    }
   ],
   "source": [
    "top30 = list(sp500_train.stock_sharpe.sort_values(by = 'Sharpe', ascending = False).iloc[:30].index)\n",
    "baseline.loc['Top30'] = [sp500_test.get_portf_sharpe(tick = top30), \n",
    "                         sp500_test.get_portf_sortino(tick = top30), \n",
    "                         sp500_test.get_portf_return(tick = top30)]\n",
    "baseline"
   ]
  },
  {
   "cell_type": "code",
   "execution_count": 7,
   "id": "2Y8FuCxcpTbd",
   "metadata": {
    "colab": {
     "base_uri": "https://localhost:8080/"
    },
    "execution": {
     "iopub.execute_input": "2024-08-21T07:42:46.691906Z",
     "iopub.status.busy": "2024-08-21T07:42:46.691695Z",
     "iopub.status.idle": "2024-08-21T07:42:46.722054Z",
     "shell.execute_reply": "2024-08-21T07:42:46.720722Z",
     "shell.execute_reply.started": "2024-08-21T07:42:46.691887Z"
    },
    "id": "2Y8FuCxcpTbd",
    "outputId": "d35244f5-a305-4ab5-8a7e-605b53b7300c"
   },
   "outputs": [
    {
     "name": "stdout",
     "output_type": "stream",
     "text": [
      "T-Statistic: 14.162593970834317\n",
      "P-Value (one-tailed): 6.24154224491388e-42\n"
     ]
    }
   ],
   "source": [
    "from scipy.stats import ttest_1samp\n",
    "\n",
    "benchmark = dji_test.get_portf_sharpe()\n",
    "\n",
    "# Perform one-sample t-test\n",
    "t_statistic, p_value = ttest_1samp(np.array(random_sharpe), benchmark)\n",
    "\n",
    "# Since ttest_1samp performs a two-tailed test, we need to adjust p-value for one-tailed test\n",
    "p_value_one_tailed = p_value / 2 if t_statistic > 0 else 1 - (p_value / 2)\n",
    "\n",
    "print(f\"T-Statistic: {t_statistic}\")\n",
    "print(f\"P-Value (one-tailed): {p_value_one_tailed}\")"
   ]
  },
  {
   "cell_type": "markdown",
   "id": "fLRZgGDKQbbq",
   "metadata": {
    "id": "fLRZgGDKQbbq"
   },
   "source": [
    "To set the baselines, we are using the Dow Jones Index which is a stock market index that measures the stock performance of 30 prominent companies listed on stock exchanges in the United States. We also used the average of a 30-trial Monte Carlo Simulation of 30 random stock portfolios."
   ]
  },
  {
   "cell_type": "markdown",
   "id": "VIS7ILhAlq6_",
   "metadata": {
    "id": "VIS7ILhAlq6_"
   },
   "source": [
    "## Preprocessing"
   ]
  },
  {
   "cell_type": "markdown",
   "id": "SfY2bWVsp3Lv",
   "metadata": {
    "id": "SfY2bWVsp3Lv"
   },
   "source": [
    "### Scale Data: Standardization"
   ]
  },
  {
   "cell_type": "code",
   "execution_count": 13,
   "id": "df8582e0-f120-4b51-a483-c46808389b09",
   "metadata": {
    "execution": {
     "iopub.execute_input": "2024-08-21T07:46:38.894397Z",
     "iopub.status.busy": "2024-08-21T07:46:38.893423Z",
     "iopub.status.idle": "2024-08-21T07:46:39.060189Z",
     "shell.execute_reply": "2024-08-21T07:46:39.059159Z",
     "shell.execute_reply.started": "2024-08-21T07:46:38.894351Z"
    }
   },
   "outputs": [
    {
     "data": {
      "text/plain": [
       "(454, 2518)"
      ]
     },
     "execution_count": 13,
     "metadata": {},
     "output_type": "execute_result"
    }
   ],
   "source": [
    "X = sp500_train.prices.dropna(axis = 1).T\n",
    "scaler = TimeSeriesScalerMeanVariance()\n",
    "X_scaled = scaler.fit_transform(X.to_numpy())"
   ]
  },
  {
   "cell_type": "markdown",
   "id": "HpL4EpB8n6pi",
   "metadata": {
    "id": "HpL4EpB8n6pi"
   },
   "source": [
    "## Representative-Based Clustering (RBC): KMeans & KMedoids"
   ]
  },
  {
   "cell_type": "markdown",
   "id": "0V63IZzVla3u",
   "metadata": {
    "id": "0V63IZzVla3u"
   },
   "source": [
    "### KMeans for 30 Clusters\n",
    "For comparison to the DJI, we set our preset our cluster to 30 and pick the best performing stock in each cluster based on Sharpe ratio from 2013 to 2023. Each clsuter is supposed to represent differing levels of returns. We are diversifying our portfolio by taking one from each.\n",
    "\n"
   ]
  },
  {
   "cell_type": "code",
   "execution_count": 17,
   "id": "2c546448-f05d-4b18-a3ec-7675c44f6c02",
   "metadata": {
    "execution": {
     "iopub.execute_input": "2024-08-21T07:49:36.705885Z",
     "iopub.status.busy": "2024-08-21T07:49:36.705199Z",
     "iopub.status.idle": "2024-08-21T07:49:38.262318Z",
     "shell.execute_reply": "2024-08-21T07:49:38.260192Z",
     "shell.execute_reply.started": "2024-08-21T07:49:36.705831Z"
    }
   },
   "outputs": [],
   "source": [
    "km = TimeSeriesKMeans(n_clusters=30, verbose=False, random_state=42)\n",
    "clusters = km.fit_predict(X_scaled)"
   ]
  },
  {
   "cell_type": "code",
   "execution_count": 27,
   "id": "a73b2981-502e-48db-abd6-36af0309632d",
   "metadata": {
    "execution": {
     "iopub.execute_input": "2024-08-21T07:55:40.731664Z",
     "iopub.status.busy": "2024-08-21T07:55:40.730960Z",
     "iopub.status.idle": "2024-08-21T07:55:40.806902Z",
     "shell.execute_reply": "2024-08-21T07:55:40.806333Z",
     "shell.execute_reply.started": "2024-08-21T07:55:40.731607Z"
    }
   },
   "outputs": [
    {
     "data": {
      "text/plain": [
       "(0.09129949818695339, 0.1430529612054047, 0.21470590184464983)"
      ]
     },
     "execution_count": 27,
     "metadata": {},
     "output_type": "execute_result"
    }
   ],
   "source": [
    "df = pd.DataFrame(clusters, index=X.index, columns=['Cluster'])\n",
    "df = pd.concat([df, sp500_train.stock_sharpe], axis=1)\n",
    "portfolio = df.sort_values(by=['Cluster', 'Sharpe'], ascending=[True, False])\n",
    "portfolio = list(portfolio.groupby('Cluster').head(1).index)\n",
    "\n",
    "# Compute Sharpe ratio of the portfolio\n",
    "sharpe = sp500_test.get_portf_sharpe(tick = portfolio)\n",
    "sortino = sp500_test.get_portf_sortino(tick = portfolio)\n",
    "returns = sp500_test.get_portf_return(tick = portfolio)\n",
    "sharpe, sortino, returns"
   ]
  },
  {
   "cell_type": "code",
   "execution_count": 39,
   "id": "7ceda9e9-437a-4ba1-9ce6-73cf7c392277",
   "metadata": {
    "execution": {
     "iopub.execute_input": "2024-08-21T10:18:12.865567Z",
     "iopub.status.busy": "2024-08-21T10:18:12.864944Z",
     "iopub.status.idle": "2024-08-21T10:18:12.916405Z",
     "shell.execute_reply": "2024-08-21T10:18:12.915458Z",
     "shell.execute_reply.started": "2024-08-21T10:18:12.865515Z"
    }
   },
   "outputs": [
    {
     "data": {
      "text/plain": [
       "(2518, 2518)"
      ]
     },
     "execution_count": 39,
     "metadata": {},
     "output_type": "execute_result"
    }
   ],
   "source": [
    "distance_matrix.shape"
   ]
  },
  {
   "cell_type": "code",
   "execution_count": null,
   "id": "4ce3fb57-40a2-40af-9d8f-125e2b9fa527",
   "metadata": {
    "execution": {
     "iopub.execute_input": "2024-08-21T10:20:34.093636Z",
     "iopub.status.busy": "2024-08-21T10:20:34.093051Z"
    }
   },
   "outputs": [],
   "source": [
    "ts_X = X.to_numpy()[:, :, None]\n",
    "distance_matrix = cdist_dtw(ts_X)\n",
    "distance_df = pd.DataFrame(distance_matrix, index=X.index, columns=X.index)\n",
    "print(distance_df)"
   ]
  },
  {
   "cell_type": "code",
   "execution_count": 29,
   "id": "4e4de4d3-14d5-4de4-8ff5-3c7ff331dfa7",
   "metadata": {
    "execution": {
     "iopub.execute_input": "2024-08-21T08:03:01.359737Z",
     "iopub.status.busy": "2024-08-21T08:03:01.358955Z",
     "iopub.status.idle": "2024-08-21T08:25:06.599586Z",
     "shell.execute_reply": "2024-08-21T08:25:06.598253Z",
     "shell.execute_reply.started": "2024-08-21T08:03:01.359676Z"
    }
   },
   "outputs": [
    {
     "ename": "KeyboardInterrupt",
     "evalue": "",
     "output_type": "error",
     "traceback": [
      "\u001b[0;31m---------------------------------------------------------------------------\u001b[0m",
      "\u001b[0;31mKeyboardInterrupt\u001b[0m                         Traceback (most recent call last)",
      "Cell \u001b[0;32mIn[29], line 2\u001b[0m\n\u001b[1;32m      1\u001b[0m dba_km \u001b[38;5;241m=\u001b[39m TimeSeriesKMeans(n_clusters\u001b[38;5;241m=\u001b[39m\u001b[38;5;241m30\u001b[39m, metric \u001b[38;5;241m=\u001b[39m \u001b[38;5;124m'\u001b[39m\u001b[38;5;124mdtw\u001b[39m\u001b[38;5;124m'\u001b[39m, verbose\u001b[38;5;241m=\u001b[39m\u001b[38;5;28;01mFalse\u001b[39;00m, max_iter \u001b[38;5;241m=\u001b[39m\u001b[38;5;241m20\u001b[39m, random_state\u001b[38;5;241m=\u001b[39m\u001b[38;5;241m42\u001b[39m)\n\u001b[0;32m----> 2\u001b[0m clusters \u001b[38;5;241m=\u001b[39m \u001b[43mdba_km\u001b[49m\u001b[38;5;241;43m.\u001b[39;49m\u001b[43mfit_predict\u001b[49m\u001b[43m(\u001b[49m\u001b[43mX_scaled\u001b[49m\u001b[43m)\u001b[49m\n",
      "File \u001b[0;32m~/.local/lib/python3.11/site-packages/tslearn/clustering/kmeans.py:854\u001b[0m, in \u001b[0;36mTimeSeriesKMeans.fit_predict\u001b[0;34m(self, X, y)\u001b[0m\n\u001b[1;32m    834\u001b[0m \u001b[38;5;250m\u001b[39m\u001b[38;5;124;03m\"\"\"Fit k-means clustering using X and then predict the closest cluster\u001b[39;00m\n\u001b[1;32m    835\u001b[0m \u001b[38;5;124;03meach time series in X belongs to.\u001b[39;00m\n\u001b[1;32m    836\u001b[0m \n\u001b[0;32m   (...)\u001b[0m\n\u001b[1;32m    851\u001b[0m \u001b[38;5;124;03m    Index of the cluster each sample belongs to.\u001b[39;00m\n\u001b[1;32m    852\u001b[0m \u001b[38;5;124;03m\"\"\"\u001b[39;00m\n\u001b[1;32m    853\u001b[0m X \u001b[38;5;241m=\u001b[39m check_array(X, allow_nd\u001b[38;5;241m=\u001b[39m\u001b[38;5;28;01mTrue\u001b[39;00m, force_all_finite\u001b[38;5;241m=\u001b[39m\u001b[38;5;124m\"\u001b[39m\u001b[38;5;124mallow-nan\u001b[39m\u001b[38;5;124m\"\u001b[39m)\n\u001b[0;32m--> 854\u001b[0m \u001b[38;5;28;01mreturn\u001b[39;00m \u001b[38;5;28;43mself\u001b[39;49m\u001b[38;5;241;43m.\u001b[39;49m\u001b[43mfit\u001b[49m\u001b[43m(\u001b[49m\u001b[43mX\u001b[49m\u001b[43m,\u001b[49m\u001b[43m \u001b[49m\u001b[43my\u001b[49m\u001b[43m)\u001b[49m\u001b[38;5;241m.\u001b[39mlabels_\n",
      "File \u001b[0;32m~/.local/lib/python3.11/site-packages/tslearn/clustering/kmeans.py:821\u001b[0m, in \u001b[0;36mTimeSeriesKMeans.fit\u001b[0;34m(self, X, y)\u001b[0m\n\u001b[1;32m    819\u001b[0m     \u001b[38;5;28mprint\u001b[39m(\u001b[38;5;124m\"\u001b[39m\u001b[38;5;124mInit \u001b[39m\u001b[38;5;132;01m%d\u001b[39;00m\u001b[38;5;124m\"\u001b[39m \u001b[38;5;241m%\u001b[39m (n_successful \u001b[38;5;241m+\u001b[39m \u001b[38;5;241m1\u001b[39m))\n\u001b[1;32m    820\u001b[0m n_attempts \u001b[38;5;241m+\u001b[39m\u001b[38;5;241m=\u001b[39m \u001b[38;5;241m1\u001b[39m\n\u001b[0;32m--> 821\u001b[0m \u001b[38;5;28;43mself\u001b[39;49m\u001b[38;5;241;43m.\u001b[39;49m\u001b[43m_fit_one_init\u001b[49m\u001b[43m(\u001b[49m\u001b[43mX_\u001b[49m\u001b[43m,\u001b[49m\u001b[43m \u001b[49m\u001b[43mx_squared_norms\u001b[49m\u001b[43m,\u001b[49m\u001b[43m \u001b[49m\u001b[43mrs\u001b[49m\u001b[43m)\u001b[49m\n\u001b[1;32m    822\u001b[0m \u001b[38;5;28;01mif\u001b[39;00m \u001b[38;5;28mself\u001b[39m\u001b[38;5;241m.\u001b[39minertia_ \u001b[38;5;241m<\u001b[39m min_inertia:\n\u001b[1;32m    823\u001b[0m     best_correct_centroids \u001b[38;5;241m=\u001b[39m \u001b[38;5;28mself\u001b[39m\u001b[38;5;241m.\u001b[39mcluster_centers_\u001b[38;5;241m.\u001b[39mcopy()\n",
      "File \u001b[0;32m~/.local/lib/python3.11/site-packages/tslearn/clustering/kmeans.py:675\u001b[0m, in \u001b[0;36mTimeSeriesKMeans._fit_one_init\u001b[0;34m(self, X, x_squared_norms, rs)\u001b[0m\n\u001b[1;32m    670\u001b[0m         \u001b[38;5;28;01melse\u001b[39;00m:\n\u001b[1;32m    671\u001b[0m             \u001b[38;5;28;01mraise\u001b[39;00m \u001b[38;5;167;01mValueError\u001b[39;00m(\n\u001b[1;32m    672\u001b[0m                 \u001b[38;5;124m\"\u001b[39m\u001b[38;5;124mIncorrect metric: \u001b[39m\u001b[38;5;132;01m%s\u001b[39;00m\u001b[38;5;124m (should be one of \u001b[39m\u001b[38;5;124m'\u001b[39m\u001b[38;5;124mdtw\u001b[39m\u001b[38;5;124m'\u001b[39m\u001b[38;5;124m, \u001b[39m\u001b[38;5;124m\"\u001b[39m\n\u001b[1;32m    673\u001b[0m                 \u001b[38;5;124m\"\u001b[39m\u001b[38;5;124m'\u001b[39m\u001b[38;5;124msoftdtw\u001b[39m\u001b[38;5;124m'\u001b[39m\u001b[38;5;124m, \u001b[39m\u001b[38;5;124m'\u001b[39m\u001b[38;5;124meuclidean\u001b[39m\u001b[38;5;124m'\u001b[39m\u001b[38;5;124m)\u001b[39m\u001b[38;5;124m\"\u001b[39m \u001b[38;5;241m%\u001b[39m \u001b[38;5;28mself\u001b[39m\u001b[38;5;241m.\u001b[39mmetric\n\u001b[1;32m    674\u001b[0m             )\n\u001b[0;32m--> 675\u001b[0m         \u001b[38;5;28mself\u001b[39m\u001b[38;5;241m.\u001b[39mcluster_centers_ \u001b[38;5;241m=\u001b[39m \u001b[43m_k_init_metric\u001b[49m\u001b[43m(\u001b[49m\n\u001b[1;32m    676\u001b[0m \u001b[43m            \u001b[49m\u001b[43mX\u001b[49m\u001b[43m,\u001b[49m\u001b[43m \u001b[49m\u001b[38;5;28;43mself\u001b[39;49m\u001b[38;5;241;43m.\u001b[39;49m\u001b[43mn_clusters\u001b[49m\u001b[43m,\u001b[49m\u001b[43m \u001b[49m\u001b[43mcdist_metric\u001b[49m\u001b[38;5;241;43m=\u001b[39;49m\u001b[43mmetric_fun\u001b[49m\u001b[43m,\u001b[49m\u001b[43m \u001b[49m\u001b[43mrandom_state\u001b[49m\u001b[38;5;241;43m=\u001b[39;49m\u001b[43mrs\u001b[49m\n\u001b[1;32m    677\u001b[0m \u001b[43m        \u001b[49m\u001b[43m)\u001b[49m\n\u001b[1;32m    678\u001b[0m \u001b[38;5;28;01melif\u001b[39;00m \u001b[38;5;28mself\u001b[39m\u001b[38;5;241m.\u001b[39minit \u001b[38;5;241m==\u001b[39m \u001b[38;5;124m\"\u001b[39m\u001b[38;5;124mrandom\u001b[39m\u001b[38;5;124m\"\u001b[39m:\n\u001b[1;32m    679\u001b[0m     indices \u001b[38;5;241m=\u001b[39m rs\u001b[38;5;241m.\u001b[39mchoice(X\u001b[38;5;241m.\u001b[39mshape[\u001b[38;5;241m0\u001b[39m], \u001b[38;5;28mself\u001b[39m\u001b[38;5;241m.\u001b[39mn_clusters)\n",
      "File \u001b[0;32m~/.local/lib/python3.11/site-packages/tslearn/clustering/kmeans.py:125\u001b[0m, in \u001b[0;36m_k_init_metric\u001b[0;34m(X, n_clusters, cdist_metric, random_state, n_local_trials)\u001b[0m\n\u001b[1;32m    122\u001b[0m numpy\u001b[38;5;241m.\u001b[39mclip(candidate_ids, \u001b[38;5;28;01mNone\u001b[39;00m, closest_dist_sq\u001b[38;5;241m.\u001b[39msize \u001b[38;5;241m-\u001b[39m \u001b[38;5;241m1\u001b[39m, out\u001b[38;5;241m=\u001b[39mcandidate_ids)\n\u001b[1;32m    124\u001b[0m \u001b[38;5;66;03m# Compute distances to center candidates\u001b[39;00m\n\u001b[0;32m--> 125\u001b[0m distance_to_candidates \u001b[38;5;241m=\u001b[39m \u001b[43mcdist_metric\u001b[49m\u001b[43m(\u001b[49m\u001b[43mX\u001b[49m\u001b[43m[\u001b[49m\u001b[43mcandidate_ids\u001b[49m\u001b[43m]\u001b[49m\u001b[43m,\u001b[49m\u001b[43m \u001b[49m\u001b[43mX\u001b[49m\u001b[43m)\u001b[49m \u001b[38;5;241m*\u001b[39m\u001b[38;5;241m*\u001b[39m \u001b[38;5;241m2\u001b[39m\n\u001b[1;32m    127\u001b[0m \u001b[38;5;66;03m# update closest distances squared and potential for each candidate\u001b[39;00m\n\u001b[1;32m    128\u001b[0m numpy\u001b[38;5;241m.\u001b[39mminimum(\n\u001b[1;32m    129\u001b[0m     closest_dist_sq, distance_to_candidates, out\u001b[38;5;241m=\u001b[39mdistance_to_candidates\n\u001b[1;32m    130\u001b[0m )\n",
      "File \u001b[0;32m~/.local/lib/python3.11/site-packages/tslearn/clustering/kmeans.py:657\u001b[0m, in \u001b[0;36mTimeSeriesKMeans._fit_one_init.<locals>.metric_fun\u001b[0;34m(x, y)\u001b[0m\n\u001b[1;32m    656\u001b[0m \u001b[38;5;28;01mdef\u001b[39;00m \u001b[38;5;21mmetric_fun\u001b[39m(x, y):\n\u001b[0;32m--> 657\u001b[0m     \u001b[38;5;28;01mreturn\u001b[39;00m \u001b[43mcdist_dtw\u001b[49m\u001b[43m(\u001b[49m\n\u001b[1;32m    658\u001b[0m \u001b[43m        \u001b[49m\u001b[43mx\u001b[49m\u001b[43m,\u001b[49m\n\u001b[1;32m    659\u001b[0m \u001b[43m        \u001b[49m\u001b[43my\u001b[49m\u001b[43m,\u001b[49m\n\u001b[1;32m    660\u001b[0m \u001b[43m        \u001b[49m\u001b[43mn_jobs\u001b[49m\u001b[38;5;241;43m=\u001b[39;49m\u001b[38;5;28;43mself\u001b[39;49m\u001b[38;5;241;43m.\u001b[39;49m\u001b[43mn_jobs\u001b[49m\u001b[43m,\u001b[49m\n\u001b[1;32m    661\u001b[0m \u001b[43m        \u001b[49m\u001b[43mverbose\u001b[49m\u001b[38;5;241;43m=\u001b[39;49m\u001b[38;5;28;43mself\u001b[39;49m\u001b[38;5;241;43m.\u001b[39;49m\u001b[43mverbose\u001b[49m\u001b[43m,\u001b[49m\n\u001b[1;32m    662\u001b[0m \u001b[43m        \u001b[49m\u001b[38;5;241;43m*\u001b[39;49m\u001b[38;5;241;43m*\u001b[39;49m\u001b[43mmetric_params\u001b[49m\n\u001b[1;32m    663\u001b[0m \u001b[43m    \u001b[49m\u001b[43m)\u001b[49m\n",
      "File \u001b[0;32m~/.local/lib/python3.11/site-packages/tslearn/metrics/dtw_variants.py:1934\u001b[0m, in \u001b[0;36mcdist_dtw\u001b[0;34m(dataset1, dataset2, global_constraint, sakoe_chiba_radius, itakura_max_slope, n_jobs, verbose, be)\u001b[0m\n\u001b[1;32m   1833\u001b[0m \u001b[38;5;250m\u001b[39m\u001b[38;5;124mr\u001b[39m\u001b[38;5;124;03m\"\"\"Compute cross-similarity matrix using Dynamic Time Warping (DTW)\u001b[39;00m\n\u001b[1;32m   1834\u001b[0m \u001b[38;5;124;03msimilarity measure.\u001b[39;00m\n\u001b[1;32m   1835\u001b[0m \n\u001b[0;32m   (...)\u001b[0m\n\u001b[1;32m   1931\u001b[0m \u001b[38;5;124;03m       Signal Processing, vol. 26(1), pp. 43--49, 1978.\u001b[39;00m\n\u001b[1;32m   1932\u001b[0m \u001b[38;5;124;03m\"\"\"\u001b[39;00m  \u001b[38;5;66;03m# noqa: E501\u001b[39;00m\n\u001b[1;32m   1933\u001b[0m be \u001b[38;5;241m=\u001b[39m instantiate_backend(be, dataset1, dataset2)\n\u001b[0;32m-> 1934\u001b[0m \u001b[38;5;28;01mreturn\u001b[39;00m \u001b[43m_cdist_generic\u001b[49m\u001b[43m(\u001b[49m\n\u001b[1;32m   1935\u001b[0m \u001b[43m    \u001b[49m\u001b[43mdist_fun\u001b[49m\u001b[38;5;241;43m=\u001b[39;49m\u001b[43mdtw\u001b[49m\u001b[43m,\u001b[49m\n\u001b[1;32m   1936\u001b[0m \u001b[43m    \u001b[49m\u001b[43mdataset1\u001b[49m\u001b[38;5;241;43m=\u001b[39;49m\u001b[43mdataset1\u001b[49m\u001b[43m,\u001b[49m\n\u001b[1;32m   1937\u001b[0m \u001b[43m    \u001b[49m\u001b[43mdataset2\u001b[49m\u001b[38;5;241;43m=\u001b[39;49m\u001b[43mdataset2\u001b[49m\u001b[43m,\u001b[49m\n\u001b[1;32m   1938\u001b[0m \u001b[43m    \u001b[49m\u001b[43mn_jobs\u001b[49m\u001b[38;5;241;43m=\u001b[39;49m\u001b[43mn_jobs\u001b[49m\u001b[43m,\u001b[49m\n\u001b[1;32m   1939\u001b[0m \u001b[43m    \u001b[49m\u001b[43mverbose\u001b[49m\u001b[38;5;241;43m=\u001b[39;49m\u001b[43mverbose\u001b[49m\u001b[43m,\u001b[49m\n\u001b[1;32m   1940\u001b[0m \u001b[43m    \u001b[49m\u001b[43mcompute_diagonal\u001b[49m\u001b[38;5;241;43m=\u001b[39;49m\u001b[38;5;28;43;01mFalse\u001b[39;49;00m\u001b[43m,\u001b[49m\n\u001b[1;32m   1941\u001b[0m \u001b[43m    \u001b[49m\u001b[43mglobal_constraint\u001b[49m\u001b[38;5;241;43m=\u001b[39;49m\u001b[43mglobal_constraint\u001b[49m\u001b[43m,\u001b[49m\n\u001b[1;32m   1942\u001b[0m \u001b[43m    \u001b[49m\u001b[43msakoe_chiba_radius\u001b[49m\u001b[38;5;241;43m=\u001b[39;49m\u001b[43msakoe_chiba_radius\u001b[49m\u001b[43m,\u001b[49m\n\u001b[1;32m   1943\u001b[0m \u001b[43m    \u001b[49m\u001b[43mitakura_max_slope\u001b[49m\u001b[38;5;241;43m=\u001b[39;49m\u001b[43mitakura_max_slope\u001b[49m\u001b[43m,\u001b[49m\n\u001b[1;32m   1944\u001b[0m \u001b[43m    \u001b[49m\u001b[43mbe\u001b[49m\u001b[38;5;241;43m=\u001b[39;49m\u001b[43mbe\u001b[49m\u001b[43m,\u001b[49m\n\u001b[1;32m   1945\u001b[0m \u001b[43m\u001b[49m\u001b[43m)\u001b[49m\n",
      "File \u001b[0;32m~/.local/lib/python3.11/site-packages/tslearn/metrics/utils.py:101\u001b[0m, in \u001b[0;36m_cdist_generic\u001b[0;34m(dist_fun, dataset1, dataset2, n_jobs, verbose, compute_diagonal, dtype, be, *args, **kwargs)\u001b[0m\n\u001b[1;32m     99\u001b[0m \u001b[38;5;28;01melse\u001b[39;00m:\n\u001b[1;32m    100\u001b[0m     dataset2 \u001b[38;5;241m=\u001b[39m to_time_series_dataset(dataset2, dtype\u001b[38;5;241m=\u001b[39mdtype, be\u001b[38;5;241m=\u001b[39mbe)\n\u001b[0;32m--> 101\u001b[0m     matrix \u001b[38;5;241m=\u001b[39m \u001b[43mParallel\u001b[49m\u001b[43m(\u001b[49m\u001b[43mn_jobs\u001b[49m\u001b[38;5;241;43m=\u001b[39;49m\u001b[43mn_jobs\u001b[49m\u001b[43m,\u001b[49m\u001b[43m \u001b[49m\u001b[43mprefer\u001b[49m\u001b[38;5;241;43m=\u001b[39;49m\u001b[38;5;124;43m\"\u001b[39;49m\u001b[38;5;124;43mthreads\u001b[39;49m\u001b[38;5;124;43m\"\u001b[39;49m\u001b[43m,\u001b[49m\u001b[43m \u001b[49m\u001b[43mverbose\u001b[49m\u001b[38;5;241;43m=\u001b[39;49m\u001b[43mverbose\u001b[49m\u001b[43m)\u001b[49m\u001b[43m(\u001b[49m\n\u001b[1;32m    102\u001b[0m \u001b[43m        \u001b[49m\u001b[43mdelayed\u001b[49m\u001b[43m(\u001b[49m\u001b[43mdist_fun\u001b[49m\u001b[43m)\u001b[49m\u001b[43m(\u001b[49m\u001b[43mdataset1\u001b[49m\u001b[43m[\u001b[49m\u001b[43mi\u001b[49m\u001b[43m]\u001b[49m\u001b[43m,\u001b[49m\u001b[43m \u001b[49m\u001b[43mdataset2\u001b[49m\u001b[43m[\u001b[49m\u001b[43mj\u001b[49m\u001b[43m]\u001b[49m\u001b[43m,\u001b[49m\u001b[43m \u001b[49m\u001b[38;5;241;43m*\u001b[39;49m\u001b[43margs\u001b[49m\u001b[43m,\u001b[49m\u001b[43m \u001b[49m\u001b[38;5;241;43m*\u001b[39;49m\u001b[38;5;241;43m*\u001b[39;49m\u001b[43mkwargs\u001b[49m\u001b[43m)\u001b[49m\n\u001b[1;32m    103\u001b[0m \u001b[43m        \u001b[49m\u001b[38;5;28;43;01mfor\u001b[39;49;00m\u001b[43m \u001b[49m\u001b[43mi\u001b[49m\u001b[43m \u001b[49m\u001b[38;5;129;43;01min\u001b[39;49;00m\u001b[43m \u001b[49m\u001b[38;5;28;43mrange\u001b[39;49m\u001b[43m(\u001b[49m\u001b[38;5;28;43mlen\u001b[39;49m\u001b[43m(\u001b[49m\u001b[43mdataset1\u001b[49m\u001b[43m)\u001b[49m\u001b[43m)\u001b[49m\n\u001b[1;32m    104\u001b[0m \u001b[43m        \u001b[49m\u001b[38;5;28;43;01mfor\u001b[39;49;00m\u001b[43m \u001b[49m\u001b[43mj\u001b[49m\u001b[43m \u001b[49m\u001b[38;5;129;43;01min\u001b[39;49;00m\u001b[43m \u001b[49m\u001b[38;5;28;43mrange\u001b[39;49m\u001b[43m(\u001b[49m\u001b[38;5;28;43mlen\u001b[39;49m\u001b[43m(\u001b[49m\u001b[43mdataset2\u001b[49m\u001b[43m)\u001b[49m\u001b[43m)\u001b[49m\n\u001b[1;32m    105\u001b[0m \u001b[43m    \u001b[49m\u001b[43m)\u001b[49m\n\u001b[1;32m    106\u001b[0m     \u001b[38;5;28;01mreturn\u001b[39;00m be\u001b[38;5;241m.\u001b[39mreshape(be\u001b[38;5;241m.\u001b[39marray(matrix), (\u001b[38;5;28mlen\u001b[39m(dataset1), \u001b[38;5;241m-\u001b[39m\u001b[38;5;241m1\u001b[39m))\n",
      "File \u001b[0;32m/opt/conda/lib/python3.11/site-packages/joblib/parallel.py:1863\u001b[0m, in \u001b[0;36mParallel.__call__\u001b[0;34m(self, iterable)\u001b[0m\n\u001b[1;32m   1861\u001b[0m     output \u001b[38;5;241m=\u001b[39m \u001b[38;5;28mself\u001b[39m\u001b[38;5;241m.\u001b[39m_get_sequential_output(iterable)\n\u001b[1;32m   1862\u001b[0m     \u001b[38;5;28mnext\u001b[39m(output)\n\u001b[0;32m-> 1863\u001b[0m     \u001b[38;5;28;01mreturn\u001b[39;00m output \u001b[38;5;28;01mif\u001b[39;00m \u001b[38;5;28mself\u001b[39m\u001b[38;5;241m.\u001b[39mreturn_generator \u001b[38;5;28;01melse\u001b[39;00m \u001b[38;5;28mlist\u001b[39m(output)\n\u001b[1;32m   1865\u001b[0m \u001b[38;5;66;03m# Let's create an ID that uniquely identifies the current call. If the\u001b[39;00m\n\u001b[1;32m   1866\u001b[0m \u001b[38;5;66;03m# call is interrupted early and that the same instance is immediately\u001b[39;00m\n\u001b[1;32m   1867\u001b[0m \u001b[38;5;66;03m# re-used, this id will be used to prevent workers that were\u001b[39;00m\n\u001b[1;32m   1868\u001b[0m \u001b[38;5;66;03m# concurrently finalizing a task from the previous call to run the\u001b[39;00m\n\u001b[1;32m   1869\u001b[0m \u001b[38;5;66;03m# callback.\u001b[39;00m\n\u001b[1;32m   1870\u001b[0m \u001b[38;5;28;01mwith\u001b[39;00m \u001b[38;5;28mself\u001b[39m\u001b[38;5;241m.\u001b[39m_lock:\n",
      "File \u001b[0;32m/opt/conda/lib/python3.11/site-packages/joblib/parallel.py:1792\u001b[0m, in \u001b[0;36mParallel._get_sequential_output\u001b[0;34m(self, iterable)\u001b[0m\n\u001b[1;32m   1790\u001b[0m \u001b[38;5;28mself\u001b[39m\u001b[38;5;241m.\u001b[39mn_dispatched_batches \u001b[38;5;241m+\u001b[39m\u001b[38;5;241m=\u001b[39m \u001b[38;5;241m1\u001b[39m\n\u001b[1;32m   1791\u001b[0m \u001b[38;5;28mself\u001b[39m\u001b[38;5;241m.\u001b[39mn_dispatched_tasks \u001b[38;5;241m+\u001b[39m\u001b[38;5;241m=\u001b[39m \u001b[38;5;241m1\u001b[39m\n\u001b[0;32m-> 1792\u001b[0m res \u001b[38;5;241m=\u001b[39m \u001b[43mfunc\u001b[49m\u001b[43m(\u001b[49m\u001b[38;5;241;43m*\u001b[39;49m\u001b[43margs\u001b[49m\u001b[43m,\u001b[49m\u001b[43m \u001b[49m\u001b[38;5;241;43m*\u001b[39;49m\u001b[38;5;241;43m*\u001b[39;49m\u001b[43mkwargs\u001b[49m\u001b[43m)\u001b[49m\n\u001b[1;32m   1793\u001b[0m \u001b[38;5;28mself\u001b[39m\u001b[38;5;241m.\u001b[39mn_completed_tasks \u001b[38;5;241m+\u001b[39m\u001b[38;5;241m=\u001b[39m \u001b[38;5;241m1\u001b[39m\n\u001b[1;32m   1794\u001b[0m \u001b[38;5;28mself\u001b[39m\u001b[38;5;241m.\u001b[39mprint_progress()\n",
      "File \u001b[0;32m~/.local/lib/python3.11/site-packages/tslearn/metrics/dtw_variants.py:795\u001b[0m, in \u001b[0;36mdtw\u001b[0;34m(s1, s2, global_constraint, sakoe_chiba_radius, itakura_max_slope, be)\u001b[0m\n\u001b[1;32m    786\u001b[0m mask \u001b[38;5;241m=\u001b[39m compute_mask(\n\u001b[1;32m    787\u001b[0m     s1,\n\u001b[1;32m    788\u001b[0m     s2,\n\u001b[0;32m   (...)\u001b[0m\n\u001b[1;32m    792\u001b[0m     be\u001b[38;5;241m=\u001b[39mbe,\n\u001b[1;32m    793\u001b[0m )\n\u001b[1;32m    794\u001b[0m \u001b[38;5;28;01mif\u001b[39;00m be\u001b[38;5;241m.\u001b[39mis_numpy:\n\u001b[0;32m--> 795\u001b[0m     \u001b[38;5;28;01mreturn\u001b[39;00m \u001b[43m_njit_dtw\u001b[49m\u001b[43m(\u001b[49m\u001b[43ms1\u001b[49m\u001b[43m,\u001b[49m\u001b[43m \u001b[49m\u001b[43ms2\u001b[49m\u001b[43m,\u001b[49m\u001b[43m \u001b[49m\u001b[43mmask\u001b[49m\u001b[38;5;241;43m=\u001b[39;49m\u001b[43mmask\u001b[49m\u001b[43m)\u001b[49m\n\u001b[1;32m    796\u001b[0m \u001b[38;5;28;01mreturn\u001b[39;00m _dtw(s1, s2, mask\u001b[38;5;241m=\u001b[39mmask, be\u001b[38;5;241m=\u001b[39mbe)\n",
      "\u001b[0;31mKeyboardInterrupt\u001b[0m: "
     ]
    }
   ],
   "source": [
    "dba_km = TimeSeriesKMeans(n_clusters=30, metric = 'dtw', verbose=False, max_iter =20, random_state=42)\n",
    "clusters = dba_km.fit_predict(X_scaled)"
   ]
  },
  {
   "cell_type": "code",
   "execution_count": null,
   "id": "7bd7e477-40d6-4c66-a6be-653fada453dc",
   "metadata": {
    "execution": {
     "iopub.status.busy": "2024-08-21T08:25:06.600277Z",
     "iopub.status.idle": "2024-08-21T08:25:06.600538Z",
     "shell.execute_reply": "2024-08-21T08:25:06.600420Z",
     "shell.execute_reply.started": "2024-08-21T08:25:06.600407Z"
    }
   },
   "outputs": [],
   "source": [
    "df = pd.DataFrame(clusters, index=X.index, columns=['Cluster'])\n",
    "df = pd.concat([df, sp500_train.stock_sharpe], axis=1)\n",
    "portfolio = df.sort_values(by=['Cluster', 'Sharpe'], ascending=[True, False])\n",
    "portfolio = list(portfolio.groupby('Cluster').head(1).index)\n",
    "\n",
    "# Compute Sharpe ratio of the portfolio\n",
    "sharpe = sp500_test.get_portf_sharpe(tick = portfolio)\n",
    "sortino = sp500_test.get_portf_sortino(tick = portfolio)\n",
    "returns = sp500_test.get_portf_return(tick = portfolio)\n",
    "sharpe, sortino, returns"
   ]
  },
  {
   "cell_type": "code",
   "execution_count": null,
   "id": "47d3b7c6-56bc-485d-a1cd-d86a64074b37",
   "metadata": {},
   "outputs": [],
   "source": []
  }
 ],
 "metadata": {
  "colab": {
   "provenance": [],
   "toc_visible": true
  },
  "kernelspec": {
   "display_name": "Python 3 (ipykernel)",
   "language": "python",
   "name": "python3"
  },
  "language_info": {
   "codemirror_mode": {
    "name": "ipython",
    "version": 3
   },
   "file_extension": ".py",
   "mimetype": "text/x-python",
   "name": "python",
   "nbconvert_exporter": "python",
   "pygments_lexer": "ipython3",
   "version": "3.11.8"
  }
 },
 "nbformat": 4,
 "nbformat_minor": 5
}
